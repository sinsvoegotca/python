{
  "cells": [
    {
      "cell_type": "markdown",
      "metadata": {
        "id": "vC84e9kzyxPy"
      },
      "source": [
        "<h1>Импорт библиотек"
      ]
    },
    {
      "cell_type": "code",
      "execution_count": 3,
      "metadata": {
        "id": "cgKeNegmQG5S"
      },
      "outputs": [],
      "source": [
        "import numpy as np\n",
        "import matplotlib.pyplot as plt"
      ]
    },
    {
      "cell_type": "markdown",
      "metadata": {
        "id": "qFM9uVU2x4Ls"
      },
      "source": [
        "<h1>Задача 1. Дан набор из $p$ матриц размерностью $(n, n)$ и $p$ векторов размерностью $(n, 1)$, найти сумму произведений матриц на векторы. Написать тесты для кода"
      ]
    },
    {
      "cell_type": "code",
      "execution_count": null,
      "metadata": {
        "id": "IAbUvEiYyWFF"
      },
      "outputs": [],
      "source": [
        "import numpy as np\n",
        "import unittest\n",
        "\n",
        "def sum_prod(X, V):\n",
        "    '''\n",
        "    X - матрицы (n, n)\n",
        "    V - векторы (n, 1)\n",
        "    Гарантируется, что len(X) == len(V)\n",
        "    '''\n",
        "    result = np.zeros_like(V)\n",
        "    for matrix, vector in zip(X, V):\n",
        "        result += np.dot(matrix, vector)\n",
        "    return result\n",
        "\n",
        "class TestSumProd(unittest.TestCase):\n",
        "    def test_simple_case(self):\n",
        "        X = [np.array([[1, 2], [3, 4]]), np.array([[5, 6], [7, 8]])]\n",
        "        V = [np.array([[1], [2]]), np.array([[3], [4]])]\n",
        "        expected_result = np.array([[17], [37]])\n",
        "        self.assertTrue(np.array_equal(sum_prod(X, V), expected_result))\n",
        "\n",
        "    def test_zero_matrices(self):\n",
        "        X = [np.zeros((2, 2)), np.zeros((2, 2))]\n",
        "        V = [np.array([[1], [2]]), np.array([[3], [4]])]\n",
        "        expected_result = np.zeros((2, 1))\n",
        "        self.assertTrue(np.array_equal(sum_prod(X, V), expected_result))\n",
        "\n",
        "    def test_identity_matrices(self):\n",
        "        X = [np.eye(2), np.eye(2)]\n",
        "        V = [np.array([[1], [2]]), np.array([[3], [4]])]\n",
        "        expected_result = np.array([[4], [6]])\n",
        "        self.assertTrue(np.array_equal(sum_prod(X, V), expected_result))\n",
        "\n",
        "    def test_empty_input(self):\n",
        "        X = []\n",
        "        V = []\n",
        "        expected_result = np.array([])\n",
        "        self.assertTrue(np.array_equal(sum_prod(X, V), expected_result))\n",
        "\n",
        "if __name__ == '__main__':\n",
        "    unittest.main()\n"
      ]
    },
    {
      "cell_type": "markdown",
      "metadata": {
        "id": "TKwPG4fIy2w4"
      },
      "source": [
        "<h1>Задача 2. Дана матрица M, напишите функцию, которая бинаризует матрицу по некоторому threshold (то есть, все значения большие threshold становятся равными 1, иначе 0). Напишите тесты для кода"
      ]
    },
    {
      "cell_type": "code",
      "execution_count": null,
      "metadata": {
        "id": "KQDNMgsjRNH7"
      },
      "outputs": [],
      "source": [
        "import numpy as np\n",
        "import unittest\n",
        "\n",
        "def binarize(M, threshold=0.5):\n",
        "    return np.where(M > threshold, 1, 0)\n",
        "\n",
        "class TestBinarize(unittest.TestCase):\n",
        "    def test_simple_case(self):\n",
        "        M = np.array([[0.1, 0.6, 0.3],\n",
        "                      [0.7, 0.4, 0.9],\n",
        "                      [0.2, 0.8, 0.5]])\n",
        "        threshold = 0.5\n",
        "        expected_result = np.array([[0, 1, 0],\n",
        "                                    [1, 0, 1],\n",
        "                                    [0, 1, 1]])\n",
        "        self.assertTrue(np.array_equal(binarize(M, threshold), expected_result))\n",
        "\n",
        "    def test_threshold_zero(self):\n",
        "        M = np.array([[0.1, 0.6, 0.3],\n",
        "                      [0.7, 0.4, 0.9],\n",
        "                      [0.2, 0.8, 0.5]])\n",
        "        threshold = 0\n",
        "        expected_result = np.array([[0, 1, 0],\n",
        "                                    [1, 1, 1],\n",
        "                                    [0, 1, 1]])\n",
        "        self.assertTrue(np.array_equal(binarize(M, threshold), expected_result))\n",
        "\n",
        "    def test_threshold_one(self):\n",
        "        M = np.array([[0.1, 0.6, 0.3],\n",
        "                      [0.7, 0.4, 0.9],\n",
        "                      [0.2, 0.8, 0.5]])\n",
        "        threshold = 1\n",
        "        expected_result = np.array([[0, 0, 0],\n",
        "                                    [0, 0, 0],\n",
        "                                    [0, 0, 0]])\n",
        "        self.assertTrue(np.array_equal(binarize(M, threshold), expected_result))\n",
        "\n",
        "    def test_empty_matrix(self):\n",
        "        M = np.array([])\n",
        "        threshold = 0.5\n",
        "        expected_result = np.array([])\n",
        "        self.assertTrue(np.array_equal(binarize(M, threshold), expected_result))\n",
        "\n",
        "if __name__ == '__main__':\n",
        "    unittest.main()\n"
      ]
    },
    {
      "cell_type": "markdown",
      "metadata": {
        "id": "IY5L-h-7zWhN"
      },
      "source": [
        "<h1>Задача 3. Напишите функцию, которая возвращает уникальные элементы из каждой строки матрицы. Напишите такую же функцию, но для столбцов. Напишите тесты для кода"
      ]
    },
    {
      "cell_type": "code",
      "execution_count": null,
      "metadata": {
        "id": "-8dEZhR0SBC-"
      },
      "outputs": [],
      "source": [
        "import numpy as np\n",
        "import unittest\n",
        "\n",
        "def unique_rows(mat):\n",
        "    return [np.unique(row) for row in mat]\n",
        "\n",
        "def unique_columns(mat):\n",
        "    return [np.unique(column) for column in mat.T]\n",
        "\n",
        "class TestUniqueElements(unittest.TestCase):\n",
        "    def test_unique_rows(self):\n",
        "        mat = np.array([[1, 2, 3],\n",
        "                        [4, 2, 6],\n",
        "                        [7, 8, 2]])\n",
        "        expected_result = [np.array([1, 2, 3]),\n",
        "                           np.array([2, 4, 6]),\n",
        "                           np.array([2, 7, 8])]\n",
        "        self.assertEqual(unique_rows(mat), expected_result)\n",
        "\n",
        "    def test_unique_columns(self):\n",
        "        mat = np.array([[1, 2, 3],\n",
        "                        [4, 2, 6],\n",
        "                        [7, 8, 2]])\n",
        "        expected_result = [np.array([1, 4, 7]),\n",
        "                           np.array([2, 8]),\n",
        "                           np.array([2, 3, 6])]\n",
        "        self.assertEqual(unique_columns(mat), expected_result)\n",
        "\n",
        "    def test_empty_matrix(self):\n",
        "        mat = np.array([])\n",
        "        expected_result = []\n",
        "        self.assertEqual(unique_rows(mat), expected_result)\n",
        "        self.assertEqual(unique_columns(mat), expected_result)\n",
        "\n",
        "if __name__ == '__main__':\n",
        "    unittest.main()\n"
      ]
    },
    {
      "cell_type": "markdown",
      "metadata": {
        "id": "roYAlo4Jz-lH"
      },
      "source": [
        "<h1>Задача 4. Напишите функцию, которая заполняет матрицу с размерами $(m, n)$ случайными числами, распределенными по нормальному закону. Затем считает мат. ожидание и дисперсию для каждого из столбцов и строк, а также строит для каждой строки и столбца гистограмму значений (использовать функцию hist из модуля matplotlib.plot)"
      ]
    },
    {
      "cell_type": "code",
      "execution_count": null,
      "metadata": {
        "id": "nZK_71hMSQzv"
      },
      "outputs": [],
      "source": [
        "import numpy as np\n",
        "import matplotlib.pyplot as plt\n",
        "\n",
        "def fill_matrix(m, n):\n",
        "    return np.random.randn(m, n)\n",
        "\n",
        "def compute_statistics(matrix):\n",
        "    row_means = np.mean(matrix, axis=1)\n",
        "    row_variances = np.var(matrix, axis=1)\n",
        "    col_means = np.mean(matrix, axis=0)\n",
        "    col_variances = np.var(matrix, axis=0)\n",
        "    return row_means, row_variances, col_means, col_variances\n",
        "\n",
        "def plot_histograms(matrix):\n",
        "    num_rows, num_cols = matrix.shape\n",
        "    for i in range(num_rows):\n",
        "        plt.hist(matrix[i], bins=20, alpha=0.5, label=f'Row {i+1}')\n",
        "    plt.title('Histograms for each row')\n",
        "    plt.xlabel('Value')\n",
        "    plt.ylabel('Frequency')\n",
        "    plt.legend()\n",
        "    plt.show()\n",
        "\n",
        "    for i in range(num_cols):\n",
        "        plt.hist(matrix[:,i], bins=20, alpha=0.5, label=f'Column {i+1}')\n",
        "    plt.title('Histograms for each column')\n",
        "    plt.xlabel('Value')\n",
        "    plt.ylabel('Frequency')\n",
        "    plt.legend()\n",
        "    plt.show()\n",
        "\n",
        "# Пример использования функций:\n",
        "m = 5\n",
        "n = 4\n",
        "matrix = fill_matrix(m, n)\n",
        "row_means, row_variances, col_means, col_variances = compute_statistics(matrix)\n",
        "print(\"Row means:\", row_means)\n",
        "print(\"Row variances:\", row_variances)\n",
        "print(\"Column means:\", col_means)\n",
        "print(\"Column variances:\", col_variances)\n",
        "plot_histograms(matrix)\n"
      ]
    },
    {
      "cell_type": "markdown",
      "metadata": {
        "id": "BDyATNdM0dJ2"
      },
      "source": [
        "<h1>Задача 5. Напишите функцию, которая заполняет матрицу $(m, n)$ в шахматном порядке заданными числами $a$ и $b$. Напишите тесты для кода"
      ]
    },
    {
      "cell_type": "code",
      "execution_count": null,
      "metadata": {
        "id": "RWNJYWQGecS6"
      },
      "outputs": [],
      "source": [
        "import numpy as np\n",
        "import unittest\n",
        "\n",
        "def chess(m, n, a, b):\n",
        "    matrix = np.full((m, n), b)\n",
        "    matrix[::2, ::2] = a\n",
        "    matrix[1::2, 1::2] = a\n",
        "    return matrix\n",
        "\n",
        "class TestChess(unittest.TestCase):\n",
        "    def test_chess_pattern_3x3(self):\n",
        "        m, n = 3, 3\n",
        "        a, b = 1, 0\n",
        "        expected_result = np.array([[1, 0, 1],\n",
        "                                    [0, 1, 0],\n",
        "                                    [1, 0, 1]])\n",
        "        self.assertTrue(np.array_equal(chess(m, n, a, b), expected_result))\n",
        "\n",
        "    def test_chess_pattern_4x4(self):\n",
        "        m, n = 4, 4\n",
        "        a, b = 1, 0\n",
        "        expected_result = np.array([[1, 0, 1, 0],\n",
        "                                    [0, 1, 0, 1],\n",
        "                                    [1, 0, 1, 0],\n",
        "                                    [0, 1, 0, 1]])\n",
        "        self.assertTrue(np.array_equal(chess(m, n, a, b), expected_result))\n",
        "\n",
        "    def test_custom_chess_pattern(self):\n",
        "        m, n = 3, 4\n",
        "        a, b = 5, 3\n",
        "        expected_result = np.array([[5, 3, 5, 3],\n",
        "                                    [3, 5, 3, 5],\n",
        "                                    [5, 3, 5, 3]])\n",
        "        self.assertTrue(np.array_equal(chess(m, n, a, b), expected_result))\n",
        "\n",
        "    def test_same_values(self):\n",
        "        m, n = 2, 2\n",
        "        a, b = 4, 4\n",
        "        expected_result = np.array([[4, 4],\n",
        "                                    [4, 4]])\n",
        "        self.assertTrue(np.array_equal(chess(m, n, a, b), expected_result))\n",
        "\n",
        "if __name__ == '__main__':\n",
        "    unittest.main()\n"
      ]
    },
    {
      "cell_type": "markdown",
      "metadata": {
        "id": "-ymXLtTN0vB6"
      },
      "source": [
        "<h1>Задача 6. Напишите функцию, которая отрисовывает прямоугольник с заданными размерами (a, b) на изображении размера (m, n), цвет фона задайте в схеме RGB, как и цвет прямоугольника. Цвета также должны быть параметрами функции. Напишите аналогичную функцию но для овала с полуосями a и b. Напишите тесты для кода.\n",
        "Примечание: уравнение эллипса (границы овала) можно записать как:\n",
        "<h1>$\\frac{(x-x_0)^2}{a^2}+\\frac{(y-y_0)^2}{b^2}=1$"
      ]
    },
    {
      "cell_type": "code",
      "execution_count": 1,
      "metadata": {
        "id": "sNfl1t_kfOF4"
      },
      "outputs": [],
      "source": [
        "def draw_rectangle(a, b, m, n, rectangle_color, background_color):\n",
        "    # Your code goes here\n",
        "    pass\n",
        "\n",
        "def draw_ellipse(a, b, m, n, ellipse_color, background_color):\n",
        "    # Your code goes here\n",
        "    pass"
      ]
    },
    {
      "cell_type": "markdown",
      "metadata": {
        "id": "S82c38oz244H"
      },
      "source": [
        "<h1>Задача 7. Дан некий временной ряд. Для данного ряда нужно найти его: математическое ожидание, дисперсию, СКО, найти все локальные максимумы и минимумы (локальный максимум - это точка, которая больше своих соседних точек, а локальный минимум - это точка, которая меньше своих соседей), а также вычислить для данного ряда другой ряд, получаемый методом скользящего среднего с размером окна $p$.\n",
        "<h1>Примечание: метод скользящего среднего подразумевает нахождение среднего из подмножетсва ряда размером $p$"
      ]
    },
    {
      "cell_type": "code",
      "execution_count": null,
      "metadata": {
        "id": "Zb9mIVge5MMt"
      },
      "outputs": [],
      "source": [
        "# Your code goes here"
      ]
    },
    {
      "cell_type": "markdown",
      "metadata": {
        "id": "jPkylmOX5O9n"
      },
      "source": [
        "<h1> Задача 8. Дан некоторый вектор с целочисленными метками классов, напишите функцию, которая выполняет one-hot-encoding для данного вектора\n",
        "<h1> One-hot-encoding - представление, в котором на месте метки некоторого класса стоит 1, в остальных позициях стоит 0. Например для вектора [0, 2, 3, 0] one-hot-encoding выглядит как: [[1, 0, 0, 0], [0, 0, 1, 0], [0, 0, 0, 1], [1, 0, 0, 0]]"
      ]
    },
    {
      "cell_type": "code",
      "execution_count": null,
      "metadata": {
        "id": "Y-jlnZvw56lD"
      },
      "outputs": [],
      "source": [
        "import numpy as np\n",
        "\n",
        "def one_hot_encoding(vector):\n",
        "    num_classes = np.max(vector) + 1\n",
        "    encoded = np.zeros((len(vector), num_classes))\n",
        "    encoded[np.arange(len(vector)), vector] = 1\n",
        "    return encoded\n",
        "\n",
        "# Пример использования функции:\n",
        "vector = [0, 2, 3, 0]\n",
        "encoded = one_hot_encoding(vector)\n",
        "print(encoded)\n"
      ]
    }
  ],
  "metadata": {
    "colab": {
      "provenance": []
    },
    "kernelspec": {
      "display_name": "Python 3",
      "name": "python3"
    },
    "language_info": {
      "name": "python"
    }
  },
  "nbformat": 4,
  "nbformat_minor": 0
}
