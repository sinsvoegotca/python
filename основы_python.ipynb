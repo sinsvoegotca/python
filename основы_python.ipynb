{
  "cells": [
    {
      "cell_type": "markdown",
      "metadata": {
        "id": "M-DGa20PaHnu"
      },
      "source": [
        "#Задача 1\n",
        "Написать функцию на вход которой подается строка, состоящая из латинских букв.\n",
        "Функция должна вернуть количество гласных букв (a, e, i, o, u) в этой строке. Написать тесты для кода"
      ]
    },
    {
      "cell_type": "code",
      "execution_count": null,
      "metadata": {
        "id": "XvX8X_JJ6PCb"
      },
      "outputs": [],
      "source": [
        "import unittest\n",
        "\n",
        "def count_vowels(string):\n",
        "    vowels = 'aeiouAEIOU'\n",
        "    count = 0\n",
        "    for char in string:\n",
        "        if char in vowels:\n",
        "            count += 1\n",
        "    return count\n",
        "\n",
        "class TestCountVowels(unittest.TestCase):\n",
        "    def test_empty_string(self):\n",
        "        self.assertEqual(count_vowels(''), 0)\n",
        "\n",
        "    def test_no_vowels(self):\n",
        "        self.assertEqual(count_vowels('xyz'), 0)\n",
        "\n",
        "    def test_only_vowels(self):\n",
        "        self.assertEqual(count_vowels('aeiou'), 5)\n",
        "\n",
        "    def test_mixed_case_vowels(self):\n",
        "        self.assertEqual(count_vowels('AEIOUaeiou'), 10)\n",
        "\n",
        "    def test_mixed_case_with_consonants(self):\n",
        "        self.assertEqual(count_vowels('AbCdeFghiJkLoU'), 5)\n",
        "\n",
        "    def test_sentence(self):\n",
        "        self.assertEqual(count_vowels('Hello, World!'), 3)\n",
        "\n",
        "if __name__ == '__main__':\n",
        "    unittest.main()\n"
      ]
    },
    {
      "cell_type": "markdown",
      "metadata": {
        "id": "t2ClV_Y0bbr6"
      },
      "source": [
        "# Задача 2\n",
        "Написать функцию на вход, которой подается строка. Функция должна вернуть true, если\n",
        "каждый символ в строке встречается только 1 раз, иначе должна вернуть false. Написать тесты для кода"
      ]
    },
    {
      "cell_type": "code",
      "execution_count": null,
      "metadata": {
        "id": "FppbECao6VIz"
      },
      "outputs": [],
      "source": [
        "import unittest\n",
        "from collections import Counter\n",
        "\n",
        "def unique_characters(string):\n",
        "    char_counts = Counter(string)\n",
        "    for count in char_counts.values():\n",
        "        if count > 1:\n",
        "            return False\n",
        "    return True\n",
        "\n",
        "class TestUniqueCharacters(unittest.TestCase):\n",
        "    def test_empty_string(self):\n",
        "        self.assertTrue(unique_characters(''))\n",
        "\n",
        "    def test_all_unique_characters(self):\n",
        "        self.assertTrue(unique_characters('abcdef'))\n",
        "\n",
        "    def test_repeated_characters(self):\n",
        "        self.assertFalse(unique_characters('aabbcc'))\n",
        "\n",
        "    def test_mixed_case(self):\n",
        "        self.assertTrue(unique_characters('AbCdEfG'))\n",
        "\n",
        "    def test_with_spaces(self):\n",
        "        self.assertTrue(unique_characters('hello world'))\n",
        "\n",
        "    def test_with_special_characters(self):\n",
        "        self.assertFalse(unique_characters('hello!world!'))\n",
        "\n",
        "if __name__ == '__main__':\n",
        "    unittest.main()\n"
      ]
    },
    {
      "cell_type": "markdown",
      "metadata": {
        "id": "udRiIK1cdt6E"
      },
      "source": [
        "# Задача 3\n",
        "Написать функцию, которая принимает положительное число и возвращает количество\n",
        "бит равных 1 в этом числе. Написать тесты для кода"
      ]
    },
    {
      "cell_type": "code",
      "execution_count": null,
      "metadata": {
        "id": "6tkfDJRz6dp_"
      },
      "outputs": [],
      "source": [
        "import unittest\n",
        "\n",
        "def count_bits(num):\n",
        "    count = 0\n",
        "    while num:\n",
        "        count += num & 1\n",
        "        num >>= 1\n",
        "    return count\n",
        "\n",
        "class TestCountBits(unittest.TestCase):\n",
        "    def test_zero(self):\n",
        "        self.assertEqual(count_bits(0), 0)\n",
        "\n",
        "    def test_single_bit(self):\n",
        "        self.assertEqual(count_bits(1), 1)\n",
        "        self.assertEqual(count_bits(2), 1)\n",
        "\n",
        "    def test_multiple_bits(self):\n",
        "        self.assertEqual(count_bits(5), 2)  \n",
        "        self.assertEqual(count_bits(10), 2) \n",
        "\n",
        "    def test_large_number(self):\n",
        "        self.assertEqual(count_bits(1023), 10)  \n",
        "\n",
        "    def test_power_of_two(self):\n",
        "        self.assertEqual(count_bits(128), 1)  \n",
        "\n",
        "if __name__ == '__main__':\n",
        "    unittest.main()\n"
      ]
    },
    {
      "cell_type": "markdown",
      "metadata": {
        "id": "26dDUz-Ae17N"
      },
      "source": [
        "# Задача 4\n",
        "Написать функцию, которая принимает положительное число. Функция должна вернуть то,\n",
        "сколько раз необходимо перемножать цифры числа или результат перемножения, чтобы\n",
        "получилось число состоящее из одной цифры.\n",
        "Например, для входного числа:\n",
        "· 39 функция должна вернуть 3, так как 3*9=27 => 2*7=14 => 1*4=4\n",
        "· 4 функция должна вернуть 0, так как число уже состоит из одной цифры\n",
        "· 999 функция должна вернуть 4, так как 9*9*9=729 => 7*2*9=126 => 1*2*6=12 =>\n",
        "1*2=2. Написать тесты для кода"
      ]
    },
    {
      "cell_type": "code",
      "execution_count": null,
      "metadata": {
        "id": "BH1A_Mgi6i4G"
      },
      "outputs": [],
      "source": [
        "def magic(n):\n",
        "    def multiply_digits(num):\n",
        "        result = 1\n",
        "        while num > 0:\n",
        "            result *= num % 10\n",
        "            num //= 10\n",
        "        return result\n",
        "    \n",
        "    count = 0\n",
        "    while n >= 10:\n",
        "        n = multiply_digits(n)\n",
        "        count += 1\n",
        "    return count\n",
        "\n",
        "import unittest\n",
        "\n",
        "class TestMagicFunction(unittest.TestCase):\n",
        "    def test_39(self):\n",
        "        self.assertEqual(magic(39), 3)\n",
        "\n",
        "    def test_4(self):\n",
        "        self.assertEqual(magic(4), 0)\n",
        "\n",
        "    def test_999(self):\n",
        "        self.assertEqual(magic(999), 4)\n",
        "\n",
        "    def test_single_digit(self):\n",
        "        self.assertEqual(magic(7), 0)\n",
        "\n",
        "    def test_large_number(self):\n",
        "        self.assertEqual(magic(123456789), 1)\n",
        "\n",
        "if __name__ == '__main__':\n",
        "    unittest.main()\n"
      ]
    },
    {
      "cell_type": "markdown",
      "metadata": {
        "id": "0nS-kIa8g8vd"
      },
      "source": [
        "# Задача 5\n",
        "Написать функцию, которая принимает два целочисленных вектора одинаковой длины и\n",
        "возвращает среднеквадратическое отклонение двух векторов. Написать тесты для кода"
      ]
    },
    {
      "cell_type": "code",
      "execution_count": null,
      "metadata": {
        "id": "8iphx4LM6xbx"
      },
      "outputs": [],
      "source": [
        "import math\n",
        "\n",
        "def mse(pred, true):\n",
        "    if len(pred) != len(true):\n",
        "        raise ValueError(\"Vectors must have the same length\")\n",
        "    \n",
        "    sum_squared_diff = sum((p - t) ** 2 for p, t in zip(pred, true))\n",
        "    mean_squared_diff = sum_squared_diff / len(pred)\n",
        "    return math.sqrt(mean_squared_diff)\n",
        "\n",
        "import unittest\n",
        "\n",
        "class TestMSE(unittest.TestCase):\n",
        "    def test_equal_vectors(self):\n",
        "        pred = [1, 2, 3]\n",
        "        true = [1, 2, 3]\n",
        "        self.assertAlmostEqual(mse(pred, true), 0)\n",
        "\n",
        "    def test_different_vectors(self):\n",
        "        pred = [1, 2, 3]\n",
        "        true = [4, 5, 6]\n",
        "        self.assertAlmostEqual(mse(pred, true), math.sqrt(9))\n",
        "\n",
        "    def test_empty_vectors(self):\n",
        "        pred = []\n",
        "        true = []\n",
        "        self.assertAlmostEqual(mse(pred, true), 0)\n",
        "\n",
        "    def test_vectors_with_negative_values(self):\n",
        "        pred = [-1, -2, -3]\n",
        "        true = [-4, -5, -6]\n",
        "        self.assertAlmostEqual(mse(pred, true), math.sqrt(9))\n",
        "\n",
        "    def test_vectors_with_float_values(self):\n",
        "        pred = [1.5, 2.5, 3.5]\n",
        "        true = [4.5, 5.5, 6.5]\n",
        "        self.assertAlmostEqual(mse(pred, true), math.sqrt(9))\n",
        "\n",
        "    def test_vectors_with_mixed_values(self):\n",
        "        pred = [1, 2.5, 3]\n",
        "        true = [4.5, 5, 6.5]\n",
        "        self.assertAlmostEqual(mse(pred, true), math.sqrt(11.875))\n",
        "\n",
        "if __name__ == '__main__':\n",
        "    unittest.main()\n"
      ]
    },
    {
      "cell_type": "markdown",
      "metadata": {
        "id": "vpIPKL439zkw"
      },
      "source": [
        "# Задача 6\n",
        "Написать функцию, принимающая целое положительное число. Функция должна вернуть\n",
        "строку вида “(n1**p1)(n2**p2)…(nk**pk)” представляющая разложение числа на простые\n",
        "множители (если pi == 1, то выводить только ni).\n",
        "Например, для числа 86240 функция должна вернуть “(2**5)(5)(7**2)(11)”. Написать тесты для кода"
      ]
    },
    {
      "cell_type": "code",
      "execution_count": null,
      "metadata": {
        "id": "pFebmcZk94Jw"
      },
      "outputs": [],
      "source": [
        "import math\n",
        "import unittest\n",
        "\n",
        "def prime_factors(n):\n",
        "    factors = []\n",
        "    divisor = 2\n",
        "    while n > 1:\n",
        "        if n % divisor == 0:\n",
        "            exponent = 0\n",
        "            while n % divisor == 0:\n",
        "                n //= divisor\n",
        "                exponent += 1\n",
        "            factors.append((divisor, exponent))\n",
        "        divisor += 1\n",
        "    return factors\n",
        "\n",
        "def factor_string(n):\n",
        "    factors = prime_factors(n)\n",
        "    factor_str = \"\"\n",
        "    for factor, exponent in factors:\n",
        "        if exponent == 1:\n",
        "            factor_str += f\"({factor})\"\n",
        "        else:\n",
        "            factor_str += f\"({factor}**{exponent})\"\n",
        "    return factor_str\n",
        "\n",
        "class TestFactorString(unittest.TestCase):\n",
        "    def test_86240(self):\n",
        "        self.assertEqual(factor_string(86240), \"(2**5)(5)(7**2)(11)\")\n",
        "\n",
        "    def test_1(self):\n",
        "        self.assertEqual(factor_string(1), \"\")\n",
        "\n",
        "    def test_prime_number(self):\n",
        "        self.assertEqual(factor_string(17), \"(17)\")\n",
        "\n",
        "    def test_large_number(self):\n",
        "        self.assertEqual(factor_string(999999), \"(3**3)(7)(11)(13)(37)\")\n",
        "\n",
        "if __name__ == '__main__':\n",
        "    unittest.main()\n"
      ]
    },
    {
      "cell_type": "markdown",
      "metadata": {
        "id": "ps2s0BudX7A2"
      },
      "source": [
        "# Задача 7\n",
        "Написать функцию, принимающая целое число n, задающее количество кубиков. Функция\n",
        "должна определить, можно ли из данного кол-ва кубиков построить пирамиду, то есть\n",
        "можно ли представить число n как 1^2+2^2+3^2+…+k^2. Если можно, то функция должна\n",
        "вернуть k, иначе строку “It is impossible”. Написать тесты для кода"
      ]
    },
    {
      "cell_type": "code",
      "execution_count": null,
      "metadata": {
        "id": "3YPjEXxhX_YT"
      },
      "outputs": [],
      "source": [
        "import math\n",
        "import unittest\n",
        "\n",
        "def pyramid(number):\n",
        "    total = 0\n",
        "    k = 1\n",
        "    while total < number:\n",
        "        total += k ** 2\n",
        "        if total == number:\n",
        "            return k\n",
        "        k += 1\n",
        "    return \"It is impossible\"\n",
        "\n",
        "class TestPyramid(unittest.TestCase):\n",
        "    def test_possible_pyramid_1(self):\n",
        "        self.assertEqual(pyramid(1), 1)\n",
        "\n",
        "    def test_possible_pyramid_14(self):\n",
        "        self.assertEqual(pyramid(14), 3)\n",
        "\n",
        "    def test_possible_pyramid_30(self):\n",
        "        self.assertEqual(pyramid(30), \"It is impossible\")\n",
        "\n",
        "    def test_possible_pyramid_385(self):\n",
        "        self.assertEqual(pyramid(385), 9)\n",
        "\n",
        "    def test_possible_pyramid_1240(self):\n",
        "        self.assertEqual(pyramid(1240), 16)\n",
        "\n",
        "if __name__ == '__main__':\n",
        "    unittest.main()\n"
      ]
    },
    {
      "cell_type": "markdown",
      "metadata": {
        "id": "KeKgmIdAQMEJ"
      },
      "source": [
        "# Задача 8\n",
        "Функция принимает на вход положительное число и определяет является ли оно сбалансированным, т.е. сумма цифр до средних равна сумме цифр после. Средними в случае нечетного числа цифр считать одну цифру, в случае четного - две средних. Написать тесты для кода"
      ]
    },
    {
      "cell_type": "code",
      "execution_count": null,
      "metadata": {
        "id": "gMAAqtqlQrZt"
      },
      "outputs": [],
      "source": [
        "import unittest\n",
        "\n",
        "def is_balanced(number):\n",
        "    digits = [int(digit) for digit in str(number)]\n",
        "    length = len(digits)\n",
        "    if length % 2 == 0:\n",
        "        first_half = digits[:length // 2]\n",
        "        second_half = digits[length // 2:]\n",
        "    else:\n",
        "        first_half = digits[:length // 2]\n",
        "        second_half = digits[length // 2 + 1:]\n",
        "\n",
        "    return sum(first_half) == sum(second_half)\n",
        "\n",
        "class TestIsBalanced(unittest.TestCase):\n",
        "    def test_even_digits(self):\n",
        "        self.assertTrue(is_balanced(123456))\n",
        "        self.assertTrue(is_balanced(11112222))\n",
        "        self.assertTrue(is_balanced(9876543210))\n",
        "        self.assertFalse(is_balanced(123))\n",
        "        self.assertFalse(is_balanced(123321))\n",
        "\n",
        "    def test_odd_digits(self):\n",
        "        self.assertTrue(is_balanced(12345))\n",
        "        self.assertTrue(is_balanced(1234567))\n",
        "        self.assertFalse(is_balanced(1234))\n",
        "        self.assertFalse(is_balanced(123454))\n",
        "\n",
        "    def test_single_digit(self):\n",
        "        self.assertTrue(is_balanced(1))\n",
        "        self.assertFalse(is_balanced(2))\n",
        "\n",
        "    def test_large_number(self):\n",
        "        self.assertTrue(is_balanced(12345678987654321))\n",
        "        self.assertFalse(is_balanced(123456789876543210))\n",
        "\n",
        "if __name__ == '__main__':\n",
        "    unittest.main()\n"
      ]
    }
  ],
  "metadata": {
    "colab": {
      "provenance": []
    },
    "kernelspec": {
      "display_name": "Python 3",
      "name": "python3"
    },
    "language_info": {
      "name": "python"
    }
  },
  "nbformat": 4,
  "nbformat_minor": 0
}
